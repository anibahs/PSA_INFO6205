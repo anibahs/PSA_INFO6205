{
  "nbformat": 4,
  "nbformat_minor": 0,
  "metadata": {
    "colab": {
      "provenance": [],
      "authorship_tag": "ABX9TyNRxwLcC2fld8E01ris8pHY",
      "include_colab_link": true
    },
    "kernelspec": {
      "name": "python3",
      "display_name": "Python 3"
    },
    "language_info": {
      "name": "python"
    }
  },
  "cells": [
    {
      "cell_type": "markdown",
      "metadata": {
        "id": "view-in-github",
        "colab_type": "text"
      },
      "source": [
        "<a href=\"https://colab.research.google.com/github/anibahs/PSA_INFO6205/blob/main/Crash_Course_in_Algorithms_Ford_Fulkerson_Written_Section.ipynb\" target=\"_parent\"><img src=\"https://colab.research.google.com/assets/colab-badge.svg\" alt=\"Open In Colab\"/></a>"
      ]
    },
    {
      "cell_type": "markdown",
      "source": [
        "Applications of FF Algo, Graphs and demo on graph, image"
      ],
      "metadata": {
        "id": "Q8w4gS4hohff"
      }
    },
    {
      "cell_type": "markdown",
      "source": [
        "#Ford-Fulkerson Algorithm: A Tutorial on Maximum Flow  \n",
        "  \\\n",
        "\n",
        "If you have ever worked with network or graph problems, you may have encountered the concept of maximum flow. The maximum flow problem asks for the maximum amount of \"stuff\" that can flow through a network, subject to certain constraints. The Ford-Fulkerson algorithm is a popular greedy approach for solving this problem.  \n",
        "  \\\n",
        "\n",
        "**Flow Networks and the Maximum Flow Problem**  \n",
        "\n",
        "Before diving into the Ford-Fulkerson algorithm, let us first define some basic concepts. A flow network is a directed graph that consists of a set of nodes (vertices) and edges. Each edge has a capacity, which represents the maximum amount of flow that can pass through it.\n",
        "\n",
        "A flow in a network is a function that assigns a non-negative value to each edge, representing the amount of flow passing through that edge. A feasible flow is one that satisfies the capacity constraint, i.e., the flow passing through an edge cannot exceed its capacity. The net flow into a node (except the source and sink nodes) must also be zero, i.e., the amount of flow entering a node must be equal to the amount of flow leaving it.\n",
        "\n",
        "The maximum flow problem seeks to find the maximum amount of flow that can be sent from the source node (S) to the sink node (T) while satisfying these constraints.  \n",
        "  \\\n",
        "  \n",
        "**Algorithms:**  \n",
        "\n",
        "\n",
        "* Initialize the flow on all edges to 0.\n",
        "* While there exists an augmenting path in the residual graph:\n",
        "  * Find an augmenting path in the residual graph, which is a path from the source to the sink that has available capacity on each edge. This can be done using various methods, such as DFS or BFS.\n",
        "  * Determine the maximum amount of flow that can be added to the network along the augmenting path. This is the minimum capacity among the edges in the path.\n",
        "  * Update the flow on each edge along the augmenting path by adding the maximum amount of flow.\n",
        "  * Update the residual graph by subtracting the updated flow from the forward edges and adding it to the reverse edges. This creates a new residual graph that reflects the current flow.\n",
        "* Compute the total flow in the network as the sum of the flows on all edges leaving the source.\n",
        "\n",
        "**Intuition Behind the Ford-Fulkerson Algorithm**  \n",
        "\n",
        "The Ford-Fulkerson algorithm is a greedy approach for solving the maximum flow problem. The algorithm works by repeatedly finding an augmenting path, which is a path from the source node to the sink node that has residual capacity (i.e., the difference between the capacity and the flow) on all of its edges.  \n",
        "  \\\n",
        "\n",
        "The flow is increased along this augmenting path by the smallest residual capacity, and the process is repeated until no more augmenting paths can be found. The maximum flow is then the sum of the flows along all the augmenting paths.  \n",
        "  \\\n",
        "\n",
        "**Implementation of the Ford-Fulkerson Algorithm**  \n",
        "\n",
        "Now that we have an understanding of the Ford-Fulkerson algorithm, let's explore its implementation in popular programming languages."
      ],
      "metadata": {
        "id": "kwGSSJ9ncA8B"
      }
    },
    {
      "cell_type": "code",
      "source": [
        "def ford_fulkerson(s: int, t: int) -> int:\n",
        "    rGraph = [graph[i].copy() for i in range(V)]  # residual graph\n",
        "    parent = [-1] * V  # store augmenting path\n",
        "    max_flow = 0\n",
        "\n",
        "    # Find augmenting paths and update residual graph\n",
        "    while bfs(rGraph, s, t, parent):\n",
        "        path_flow = float(\"inf\")\n",
        "        v = t\n",
        "        path = [v]  # Store the augmenting path\n",
        "        while v != s:\n",
        "            u = parent[v]\n",
        "            path_flow = min(path_flow, rGraph[u][v])\n",
        "            v = u\n",
        "            path.append(v)\n",
        "        path.reverse()  # Reverse the path so it's from s to t\n",
        "        print(\"Augmenting Path: \", \"->\".join(str(node) for node in path), \" with flow \", path_flow)\n",
        "        v = t\n",
        "        while v != s:\n",
        "            u = parent[v]\n",
        "            rGraph[u][v] -= path_flow\n",
        "            rGraph[v][u] += path_flow\n",
        "            v = u\n",
        "        max_flow += path_flow\n",
        "\n",
        "    return max_flow"
      ],
      "metadata": {
        "id": "0lxV9JuQfejP"
      },
      "execution_count": null,
      "outputs": []
    },
    {
      "cell_type": "markdown",
      "source": [
        "In this version of the code, we added a path list to store the nodes visited along the augmenting path, and we print out this path along with the flow value at each iteration of the loop. We also reversed the order of the path so that it's from the source node to the sink node."
      ],
      "metadata": {
        "id": "Z4PTLB-MgGR8"
      }
    },
    {
      "cell_type": "code",
      "execution_count": 2,
      "metadata": {
        "colab": {
          "base_uri": "https://localhost:8080/"
        },
        "id": "MW7hmOmRkKLq",
        "outputId": "5e81297c-c428-400f-a7b9-6acccc6c7301"
      },
      "outputs": [
        {
          "output_type": "stream",
          "name": "stdout",
          "text": [
            "Augmenting Path:  0->1->3->5  with flow  12\n",
            "Augmenting Path:  0->2->4->5  with flow  4\n",
            "Augmenting Path:  0->2->4->3->5  with flow  7\n",
            "Max Flow:  23\n"
          ]
        }
      ],
      "source": [
        "def bfs(rGraph: List[List[int]], s: int, t: int, parent: List[int]) -> bool:\n",
        "    # Implement BFS to find an augmenting path\n",
        "    visited = [False] * V\n",
        "    q = deque()\n",
        "    q.append(s)\n",
        "    visited[s] = True\n",
        "    while q:\n",
        "        u = q.popleft()\n",
        "        for v in range(V):\n",
        "            if visited[v] is False and rGraph[u][v] > 0:\n",
        "                q.append(v)\n",
        "                visited[v] = True\n",
        "                parent[v] = u\n",
        "    return visited[t]"
      ]
    },
    {
      "cell_type": "markdown",
      "source": [
        "Breadth-first search (BFS) is an important component of the Ford-Fulkerson algorithm because it is used to find augmenting paths in the residual graph. An augmenting path is a path from the source to the sink in the residual graph that has available capacity on each edge. By finding augmenting paths and updating the flow along those paths, the Ford-Fulkerson algorithm can iteratively increase the flow in the network until it reaches the maximum flow.  \n",
        "  \\\n",
        "\n",
        "BFS is a good choice for finding augmenting paths because it guarantees that the path found will be the shortest path from the source to the sink in the residual graph. This is important because finding a shorter augmenting path can reduce the number of iterations needed to reach the maximum flow. In contrast, using a depth-first search (DFS) to find augmenting paths may result in longer paths being found before shorter paths, which can lead to slower convergence.  \n",
        "  \\\n",
        "\n",
        "\n",
        "Another advantage of using BFS is that it allows the Ford-Fulkerson algorithm to terminate in a finite number of iterations, even if the capacities of the edges are irrational or non-integer. This is because each iteration of the algorithm increases the flow by at least one unit, and there are a finite number of integer values between the current flow and the maximum flow.  \n",
        "  \\\n",
        "\n",
        "\n",
        "Overall, BFS is an important part of the Ford-Fulkerson algorithm because it provides a reliable and efficient way to find augmenting paths that can be used to increase the flow in the network. By finding the shortest augmenting paths and using them to update the flow, the Ford-Fulkerson algorithm can converge to the maximum flow in a finite number of iterations."
      ],
      "metadata": {
        "id": "AxDyJZAjf6YK"
      }
    },
    {
      "cell_type": "code",
      "source": [
        "# Adjacency matrix implementation\n",
        "from typing import List\n",
        "from collections import deque\n",
        "\n",
        "V = 6\n",
        "\n",
        "graph = [[0, 16, 13, 0, 0, 0],\n",
        "         [0, 0, 10, 12, 0, 0],\n",
        "         [0, 4, 0, 0, 14, 0],\n",
        "         [0, 0, 9, 0, 0, 20],\n",
        "         [0, 0, 0, 7, 0, 4],\n",
        "         [0, 0, 0, 0, 0, 0]]\n",
        "\n",
        "\n",
        "# Sample usage\n",
        "if __name__ == '__main__':\n",
        "    print(\"Max Flow: \", ford_fulkerson(0, 5))  # Output: Max Flow: 23"
      ],
      "metadata": {
        "id": "gZwnLHXDfg_i"
      },
      "execution_count": null,
      "outputs": []
    },
    {
      "cell_type": "markdown",
      "source": [
        "As you can see, the algorithm first found an augmenting path from 0 to 5 with flow 4, then another augmenting path from 0 to 5 with flow 12, and finally the maximum flow value of 23 was obtained."
      ],
      "metadata": {
        "id": "Ml9AXo48dRSy"
      }
    },
    {
      "cell_type": "markdown",
      "source": [
        "The time and space complexity of the Ford-Fulkerson algorithm can vary depending on the implementation details, but in general, it has the following properties:\n",
        "\n",
        "###Time Complexity:\n",
        "\n",
        "The time complexity of the Ford-Fulkerson algorithm depends on the method used to find augmenting paths in the residual graph.  \n",
        "  \\\n",
        "In the worst case, when using a naive method to find augmenting paths (such as a simple BFS), the algorithm can take exponential time.  \n",
        "  \\\n",
        "\n",
        "###Space Complexity:\n",
        "\n",
        "The space complexity of the Ford-Fulkerson algorithm also depends on the implementation details.  \n",
        "  \\\n",
        "The main space requirement comes from storing the residual graph, which is typically represented as an adjacency matrix or an adjacency list.\n",
        "For an adjacency matrix representation, the space complexity is O(V^2), where V is the number of vertices in the network.  \n",
        "  \\\n",
        "For an adjacency list representation, the space complexity is O(E), where E is the number of edges in the network.  \n",
        "  \\\n",
        "In addition to the residual graph, the algorithm also requires some additional data structures to store the current flow and the augmenting paths, which can add a constant amount of space overhead.  \n",
        "  \\\n",
        "Therefore, the overall space complexity of the Ford-Fulkerson algorithm is typically O(V^2) for an adjacency matrix representation, and O(E) for an adjacency list representation."
      ],
      "metadata": {
        "id": "_-xjf3XPdwH1"
      }
    },
    {
      "cell_type": "markdown",
      "source": [
        "However, if we use a more efficient method to find augmenting paths, such as the Edmonds-Karp algorithm which uses a BFS with time complexity of O(VE^2), the Ford-Fulkerson algorithm can run in O(VE^2f) time, where f is the maximum flow in the network.  \n",
        "  \\\n",
        "In practice, the algorithm can often converge much faster than its worst-case time complexity, and the actual running time can depend on the structure of the input graph and the chosen implementation.  \n",
        "  \\"
      ],
      "metadata": {
        "id": "ZZaZ9T2Pd9ob"
      }
    },
    {
      "cell_type": "markdown",
      "source": [
        "The Edmonds-Karp algorithm is a variation of the Ford-Fulkerson algorithm, which uses a specific method for finding augmenting paths in the residual graph. This method involves using a breadth-first search (BFS) to find the shortest augmenting path from the source to the sink in the residual graph.\n",
        "  \n",
        "  \\\n",
        "**The steps of the Edmonds-Karp algorithm are as follows:**  \n",
        "  \\\n",
        "* Initialize the flow to 0 and the residual graph to be the same as the original graph.\n",
        "* Find an augmenting path from the source to the sink using a BFS on the residual graph.\n",
        "* If an augmenting path is found, update the flow along the path by adding the minimum capacity among the edges.\n",
        "* Update the residual graph by subtracting the updated flow from the forward edges and adding it to the reverse edges.\n",
        "* Repeat steps 2-4 until no more augmenting paths can be found.  \n",
        "  \\\n",
        "Compared to the standard Ford-Fulkerson algorithm, the Edmonds-Karp algorithm has some advantages:  \n",
        "  \\\n",
        "\n",
        "The Edmonds-Karp algorithm always terminates in a finite number of iterations, because each iteration increases the flow by at least one unit.  \n",
        "  \\\n",
        "The time complexity of the Edmonds-Karp algorithm is O(VE^2), where V is the number of vertices in the graph and E is the number of edges. This is better than the worst-case time complexity of the Ford-Fulkerson algorithm, which can be exponential if the augmenting paths are chosen poorly.\n",
        "The Edmonds-Karp algorithm guarantees that the chosen augmenting path is the shortest possible path from the source to the sink in the residual graph. This ensures that the algorithm converges to the maximum flow in the minimum number of iterations.\n",
        "However, the Edmonds-Karp algorithm also has some drawbacks:  \n",
        "  \\\n",
        "\n",
        "The BFS operation can be expensive for dense graphs, leading to a larger time complexity compared to other flow algorithms such as the Push-Relabel algorithm.\n",
        "The Edmonds-Karp algorithm requires extra space to store the residual graph and the BFS search data structures, which can be a concern for large graphs.\n",
        "Overall, the Edmonds-Karp algorithm is a useful improvement over the basic Ford-Fulkerson algorithm, providing a faster convergence and better termination guarantees. However, it may not always be the best choice for very large or dense graphs where other algorithms may be more efficient."
      ],
      "metadata": {
        "id": "Fg4N2J8aejvt"
      }
    },
    {
      "cell_type": "markdown",
      "source": [
        "References: \n",
        "\n",
        "https://www.programiz.com/dsa/ford-fulkerson-algorithm"
      ],
      "metadata": {
        "id": "vaGrbr9_bYw8"
      }
    }
  ]
}